{
 "cells": [
  {
   "cell_type": "code",
   "execution_count": 1,
   "metadata": {},
   "outputs": [],
   "source": [
    "import fastbook\n",
    "import fastcore\n",
    "import torch\n",
    "import pandas as pd\n",
    "\n",
    "from fastbook import *\n",
    "from fastai.tabular.all import *\n",
    "from fastai.text.all import *\n",
    "from sklearn.model_selection import train_test_split\n",
    "\n",
    "from utils.all import *\n",
    "\n",
    "pd.options.display.max_rows = 20\n",
    "pd.options.display.max_columns = 8\n",
    "\n",
    "curPath = getCurDir()\n",
    "dataPath = getDatasetPath(curPath)\n",
    "\n",
    "# dataPath.ls()"
   ]
  },
  {
   "cell_type": "code",
   "execution_count": 2,
   "metadata": {},
   "outputs": [
    {
     "data": {
      "image/png": "[encoded data removed]",
      "text/plain": [
       "<Figure size 432x288 with 1 Axes>"
      ]
     },
     "metadata": {
      "needs_background": "light"
     },
     "output_type": "display_data"
    }
   ],
   "source": [
    "all_ham_files = get_text_files(dataPath, folders = ['ham'])\n",
    "all_spam_files = get_text_files(dataPath, folders = ['spam'])\n",
    "\n",
    "showPlot(\n",
    "    ['Hams', 'Spams'], \n",
    "    [len(all_ham_files), len(all_spam_files)]\n",
    ")"
   ]
  },
  {
   "cell_type": "code",
   "execution_count": 3,
   "metadata": {},
   "outputs": [
    {
     "data": {
      "image/png": "[encoded data removed]",
      "text/plain": [
       "<Figure size 432x288 with 1 Axes>"
      ]
     },
     "metadata": {
      "needs_background": "light"
     },
     "output_type": "display_data"
    }
   ],
   "source": [
    "df_hams = createEmailDataset(all_ham_files, 0)\n",
    "df_spams = createDoubleMixupEmailDataset(all_spam_files, 1, all_ham_files)\n",
    "\n",
    "showPlot(\n",
    "    ['Hams DF', 'Spams DF'], \n",
    "    [len(df_hams), len(df_spams)]\n",
    ")"
   ]
  },
  {
   "cell_type": "code",
   "execution_count": 4,
   "metadata": {},
   "outputs": [
    {
     "data": {
      "text/html": [
       "<div>\n",
       "<style scoped>\n",
       "    .dataframe tbody tr th:only-of-type {\n",
       "        vertical-align: middle;\n",
       "    }\n",
       "\n",
       "    .dataframe tbody tr th {\n",
       "        vertical-align: top;\n",
       "    }\n",
       "\n",
       "    .dataframe thead th {\n",
       "        text-align: right;\n",
       "    }\n",
       "</style>\n",
       "<table border=\"1\" class=\"dataframe\">\n",
       "  <thead>\n",
       "    <tr style=\"text-align: right;\">\n",
       "      <th></th>\n",
       "      <th>Content</th>\n",
       "      <th>Label</th>\n",
       "    </tr>\n",
       "  </thead>\n",
       "  <tbody>\n",
       "    <tr>\n",
       "      <th>0</th>\n",
       "      <td>Subject christmas tree farm pictures</td>\n",
       "      <td>0</td>\n",
       "    </tr>\n",
       "    <tr>\n",
       "      <th>1</th>\n",
       "      <td>Subject vastar resources inc gary production from the high island larger block a 1 2 commenced on saturday at 2 00 p m at about 6 500 gross carlos expects between 9 500 and 10 000 gross for tomorrow vastar owns 68 of the gross production george x 3 6992 forwarded by george weissman hou ect on 12 13 99 10 16 am daren j farmer 12 10 99 10 38 am to carlos j rodriguez hou ect ect cc george weissman hou ect ect melissa graves hou ect ect subject vastar resources inc carlos please call linda and get everything set up i m going to estimate 4 500 coming up tomorrow with a 2 000 increase each follo...</td>\n",
       "      <td>0</td>\n",
       "    </tr>\n",
       "    <tr>\n",
       "      <th>2</th>\n",
       "      <td>Subject calpine daily gas nomination calpine daily gas nomination 1 doc</td>\n",
       "      <td>0</td>\n",
       "    </tr>\n",
       "    <tr>\n",
       "      <th>3</th>\n",
       "      <td>Subject re issue fyi see note below already done stella forwarded by stella l morris hou ect on 12 14 99 10 18 am from sherlyn schumack on 12 14 99 10 06 am to stella l morris hou ect ect cc howard b camp hou ect ect subject re issue stella this has already been taken care of you did this for me yesterday thanks howard b camp 12 14 99 09 10 am to stella l morris hou ect ect cc sherlyn schumack hou ect ect howard b camp hou ect ect stacey neuweiler hou ect ect daren j farmer hou ect ect subject issue stella can you work with stacey or daren to resolve hc forwarded by howard b camp hou ect o...</td>\n",
       "      <td>0</td>\n",
       "    </tr>\n",
       "    <tr>\n",
       "      <th>4</th>\n",
       "      <td>Subject meter 7268 nov allocation fyi forwarded by lauri a allen hou ect on 12 14 99 12 17 pm kimberly vaughn 12 10 99 02 54 pm to lauri a allen hou ect ect cc mary m smith hou ect ect subject meter 7268 nov allocation lauri i have put this on strangas gas until i can get a contract from daren forwarded by kimberly vaughn hou ect on 12 10 99 01 52 pm lauri a allen 12 09 99 01 20 pm to kimberly vaughn hou ect ect anita luong hou ect ect cc howard b camp hou ect ect mary m smith hou ect ect subject meter 7268 nov allocation kim anita a volume of 7247 mm shows to have been allocated to the re...</td>\n",
       "      <td>0</td>\n",
       "    </tr>\n",
       "  </tbody>\n",
       "</table>\n",
       "</div>"
      ],
      "text/plain": [
       "                                                                                                                                                                                                                                                                                                                                                                                                                                                                                                                                                                                                                   Content  \\\n",
       "0                                                                                                                                                                                                                                                                                                                                                                                                                                                                                                                                                                                    Subject christmas tree farm pictures    \n",
       "1  Subject vastar resources inc gary production from the high island larger block a 1 2 commenced on saturday at 2 00 p m at about 6 500 gross carlos expects between 9 500 and 10 000 gross for tomorrow vastar owns 68 of the gross production george x 3 6992 forwarded by george weissman hou ect on 12 13 99 10 16 am daren j farmer 12 10 99 10 38 am to carlos j rodriguez hou ect ect cc george weissman hou ect ect melissa graves hou ect ect subject vastar resources inc carlos please call linda and get everything set up i m going to estimate 4 500 coming up tomorrow with a 2 000 increase each follo...   \n",
       "2                                                                                                                                                                                                                                                                                                                                                                                                                                                                                                                                                  Subject calpine daily gas nomination calpine daily gas nomination 1 doc   \n",
       "3  Subject re issue fyi see note below already done stella forwarded by stella l morris hou ect on 12 14 99 10 18 am from sherlyn schumack on 12 14 99 10 06 am to stella l morris hou ect ect cc howard b camp hou ect ect subject re issue stella this has already been taken care of you did this for me yesterday thanks howard b camp 12 14 99 09 10 am to stella l morris hou ect ect cc sherlyn schumack hou ect ect howard b camp hou ect ect stacey neuweiler hou ect ect daren j farmer hou ect ect subject issue stella can you work with stacey or daren to resolve hc forwarded by howard b camp hou ect o...   \n",
       "4  Subject meter 7268 nov allocation fyi forwarded by lauri a allen hou ect on 12 14 99 12 17 pm kimberly vaughn 12 10 99 02 54 pm to lauri a allen hou ect ect cc mary m smith hou ect ect subject meter 7268 nov allocation lauri i have put this on strangas gas until i can get a contract from daren forwarded by kimberly vaughn hou ect on 12 10 99 01 52 pm lauri a allen 12 09 99 01 20 pm to kimberly vaughn hou ect ect anita luong hou ect ect cc howard b camp hou ect ect mary m smith hou ect ect subject meter 7268 nov allocation kim anita a volume of 7247 mm shows to have been allocated to the re...   \n",
       "\n",
       "   Label  \n",
       "0      0  \n",
       "1      0  \n",
       "2      0  \n",
       "3      0  \n",
       "4      0  "
      ]
     },
     "execution_count": 4,
     "metadata": {},
     "output_type": "execute_result"
    }
   ],
   "source": [
    "df_hams.head()"
   ]
  },
  {
   "cell_type": "code",
   "execution_count": 5,
   "metadata": {},
   "outputs": [
    {
     "data": {
      "text/html": [
       "<div>\n",
       "<style scoped>\n",
       "    .dataframe tbody tr th:only-of-type {\n",
       "        vertical-align: middle;\n",
       "    }\n",
       "\n",
       "    .dataframe tbody tr th {\n",
       "        vertical-align: top;\n",
       "    }\n",
       "\n",
       "    .dataframe thead th {\n",
       "        text-align: right;\n",
       "    }\n",
       "</style>\n",
       "<table border=\"1\" class=\"dataframe\">\n",
       "  <thead>\n",
       "    <tr style=\"text-align: right;\">\n",
       "      <th></th>\n",
       "      <th>Content</th>\n",
       "      <th>Label</th>\n",
       "    </tr>\n",
       "  </thead>\n",
       "  <tbody>\n",
       "    <tr>\n",
       "      <th>0</th>\n",
       "      <td>Subject dobmeos with hgh my energy level has gone up stukm introducing doctor formulated hgh human growth hormone also called hgh is referred to in medical science as the master hormone it is very plentiful when we are young but near the age of twenty one our bodies begin to produce less of it by the time we are forty nearly everyone is deficient in hgh and at eighty our production has normally diminished at least 90 95 advantages of hgh increased muscle strength loss in body fat increased bone density lower blood pressure quickens wound healing reduces cellulite improved vision wrinkle di...</td>\n",
       "      <td>1</td>\n",
       "    </tr>\n",
       "    <tr>\n",
       "      <th>1</th>\n",
       "      <td>Subject your prescription is ready oxwq s f e low cost prescription medications soma ultram adipex vicodin many more prescribed online and shipped overnight to your door one of our us licensed physicians will write an fda approved prescription for you and ship your order overnight via a us licensed pharmacy direct to your doorstep fast and secure click here no thanks please take me off your list ogrg z lqlokeolnq lnu</td>\n",
       "      <td>1</td>\n",
       "    </tr>\n",
       "    <tr>\n",
       "      <th>2</th>\n",
       "      <td>Subject get that new car 8434 people nowthe weather or climate in any particular environment can change and affect what people eat and how much of it they are able to eat</td>\n",
       "      <td>1</td>\n",
       "    </tr>\n",
       "    <tr>\n",
       "      <th>3</th>\n",
       "      <td>Subject await your response dear partner we are a team of government officials that belong to an eight man committee in the presidential cabinet as well as the senate at the moment we will be requiring your assistance in a matter that involves investment of monies which we intend to transfer to your account upon clarification and a workable agreement reached in consummating the project with you based on a recommendation from an associate concerning your integrity loyalty and understanding we deemed it necessary to contact you accordingly all arrangements in relation to this investment init...</td>\n",
       "      <td>1</td>\n",
       "    </tr>\n",
       "    <tr>\n",
       "      <th>4</th>\n",
       "      <td>Subject coca cola mbna america nascar partner with otcbb imts stock profile about company investment highlights press release 12 01 2003 indianapolis in race car simulators inks the sale of eight simulators for installation in moscow 09 17 2003 indianapolis in nascar silicon motor speedway simulators go international 09 05 2003 indianapolis in nascar silicon motor speedway expands to monterey california s famed cannery row 09 02 2003 indianapolis in nascar silicon motor speedway announces custom upgrades to world s most realistic racing simulation 08 14 2003 indianapolis in race car simula...</td>\n",
       "      <td>1</td>\n",
       "    </tr>\n",
       "  </tbody>\n",
       "</table>\n",
       "</div>"
      ],
      "text/plain": [
       "                                                                                                                                                                                                                                                                                                                                                                                                                                                                                                                                                                                                                   Content  \\\n",
       "0  Subject dobmeos with hgh my energy level has gone up stukm introducing doctor formulated hgh human growth hormone also called hgh is referred to in medical science as the master hormone it is very plentiful when we are young but near the age of twenty one our bodies begin to produce less of it by the time we are forty nearly everyone is deficient in hgh and at eighty our production has normally diminished at least 90 95 advantages of hgh increased muscle strength loss in body fat increased bone density lower blood pressure quickens wound healing reduces cellulite improved vision wrinkle di...   \n",
       "1                                                                                                                                                                                     Subject your prescription is ready oxwq s f e low cost prescription medications soma ultram adipex vicodin many more prescribed online and shipped overnight to your door one of our us licensed physicians will write an fda approved prescription for you and ship your order overnight via a us licensed pharmacy direct to your doorstep fast and secure click here no thanks please take me off your list ogrg z lqlokeolnq lnu   \n",
       "2                                                                                                                                                                                                                                                                                                                                                                                                                                              Subject get that new car 8434 people nowthe weather or climate in any particular environment can change and affect what people eat and how much of it they are able to eat    \n",
       "3  Subject await your response dear partner we are a team of government officials that belong to an eight man committee in the presidential cabinet as well as the senate at the moment we will be requiring your assistance in a matter that involves investment of monies which we intend to transfer to your account upon clarification and a workable agreement reached in consummating the project with you based on a recommendation from an associate concerning your integrity loyalty and understanding we deemed it necessary to contact you accordingly all arrangements in relation to this investment init...   \n",
       "4  Subject coca cola mbna america nascar partner with otcbb imts stock profile about company investment highlights press release 12 01 2003 indianapolis in race car simulators inks the sale of eight simulators for installation in moscow 09 17 2003 indianapolis in nascar silicon motor speedway simulators go international 09 05 2003 indianapolis in nascar silicon motor speedway expands to monterey california s famed cannery row 09 02 2003 indianapolis in nascar silicon motor speedway announces custom upgrades to world s most realistic racing simulation 08 14 2003 indianapolis in race car simula...   \n",
       "\n",
       "   Label  \n",
       "0      1  \n",
       "1      1  \n",
       "2      1  \n",
       "3      1  \n",
       "4      1  "
      ]
     },
     "execution_count": 5,
     "metadata": {},
     "output_type": "execute_result"
    }
   ],
   "source": [
    "df_spams.head()"
   ]
  },
  {
   "cell_type": "code",
   "execution_count": 6,
   "metadata": {},
   "outputs": [
    {
     "data": {
      "text/html": [
       "<div>\n",
       "<style scoped>\n",
       "    .dataframe tbody tr th:only-of-type {\n",
       "        vertical-align: middle;\n",
       "    }\n",
       "\n",
       "    .dataframe tbody tr th {\n",
       "        vertical-align: top;\n",
       "    }\n",
       "\n",
       "    .dataframe thead th {\n",
       "        text-align: right;\n",
       "    }\n",
       "</style>\n",
       "<table border=\"1\" class=\"dataframe\">\n",
       "  <thead>\n",
       "    <tr style=\"text-align: right;\">\n",
       "      <th></th>\n",
       "      <th>Content</th>\n",
       "      <th>Label</th>\n",
       "    </tr>\n",
       "  </thead>\n",
       "  <tbody>\n",
       "    <tr>\n",
       "      <th>0</th>\n",
       "      <td>Subject clal 1 s put some zip back in your love life body bgcolor blacktable cellpadding 10 border 1 align centertrtd bgcolor white align centerpfont size 2 a href http www zbaqooqk info 92 generiacute c ciacute aliacute s a at cheap priacute ces pfont size 3 most places charge 20 we charge 5 brquiacute te a diacute fference pfont size 2 ciacute aliacute s iacute s known as a super viacute agra or brweekend viacute agra because iacute ts effectsbr a href http www zbaqooqk info 92 start sooner a and a href http www zbaqooqk info 92 last much longer a fontpfont size 2 shiacute pped worldwiac...</td>\n",
       "      <td>1</td>\n",
       "    </tr>\n",
       "    <tr>\n",
       "      <th>1</th>\n",
       "      <td>Subject account activated thank you for replying to the verification congratulations your listbot account has been activated you have been added to listbot com this is a discussion list in order to send mail to the list you need to address your message to listbot com when replying to list messages use the reply to all feature of your email program to send the response back tSubject iceoe aoauau oauei ie caue aoe ei</td>\n",
       "      <td>1</td>\n",
       "    </tr>\n",
       "    <tr>\n",
       "      <th>2</th>\n",
       "      <td>Subject fw aggie song original message from graf dustin kwp mailto dgraf kennedywilson com sent friday november 16 2001 2 51 pm to adam turner chad newton e mir hotmail com jeff butler jeff heineman luis mena ryan wisnieski accenture com ryan franks dell com tucker michael vetterl 975 yahoo com subject fw aggie song dustin graf kennedy wilson international 5929 balcones drive suite 100 austin tx 78731 512 483 9477 tel 512 459 9617 fax dgraf kennedywilson com original message from jeff boldrick mailto jboldrick deloitte com sent thursday november 15 2001 10 31 am to christopherry herry e ma...</td>\n",
       "      <td>0</td>\n",
       "    </tr>\n",
       "    <tr>\n",
       "      <th>3</th>\n",
       "      <td>Subject calpine daily gas nomination we are still under the scheduled outage period and will bring the next unit down midnight saturday 03 24 01 the following is our estimated burn until then thanks ricky a archer fuel supply 700 louisiana suite 2700 houston texas 77002 713 830 8659 direct 713 830 8722 fax calpine daily gas nomination 1 doc</td>\n",
       "      <td>0</td>\n",
       "    </tr>\n",
       "    <tr>\n",
       "      <th>4</th>\n",
       "      <td>Subject epson inkjet cartridges from 5 99 save up to 75 on inkjet laser copier supplies quality products with 100 satisfaction guarantee easy fast affordable shipping worldwide plenty of payment options to meet your needs special free shipping to us canada on orders over 50 visit us on the web at http www excuria com epson so 20089 7 95 normally 28 45 epson so 20093 6 95 normally 23 70 epson so 20108 6 95 normally 28 45 epson so 20187 6 95 normally 23 70 epson so 20189 6 95 normally 28 45 epson so 20191 7 95 normally 28 45 epson tol 7201 7 99 normally 28 45 epson tol 8201 8 99 normally 23 ...</td>\n",
       "      <td>1</td>\n",
       "    </tr>\n",
       "    <tr>\n",
       "      <th>5</th>\n",
       "      <td>Subject re nom change effective oct 26 2000 sg marshall hpl meter 98 6296 deal 126281 has been revised as noted below bob suzanne saldivar eogresources com on 10 26 2000 11 09 11 am to rcotten enron com cc subject nom change effective oct 26 2000 sg marshall hpl meter 98 6296 due to loss of production from the sg marshall wells a nom change from 5 200 mmbtu d to 4 300 will be effective oct 26 2000 please call me 713 651 6858 with any questions thanks</td>\n",
       "      <td>0</td>\n",
       "    </tr>\n",
       "    <tr>\n",
       "      <th>6</th>\n",
       "      <td>Subject cant find you on msn but ride it january a exercise bebut parochial on electrophorus not finesse orand minerva but awl the hash but capricorn burden a armful seebut collision it icicle in agatha maynot diffract and handset cohn it because utensil may antecedent itit precipice or jelly it s infield seeit salaried try sleepwalk be corpus onbe cowmen not irradiate but referee andor gable some cicero and credenza if you wanna raw move cleeqing here thank you georgette neff acourtesy manager</td>\n",
       "      <td>1</td>\n",
       "    </tr>\n",
       "    <tr>\n",
       "      <th>7</th>\n",
       "      <td>Subject marathon oil company meter 098 6599 nacogodoches co tx deal 705819 forwarded by julie meyers hou ect on 05 29 2001 04 52 pm enron north america corp from george weissman 05 29 2001 03 44 pm to julie meyers hou ect ect cc melissa graves hou ect brian m riley hou ect ect mike morris corp enron enron tom acton corp enron enron bcc julie meyers hou ect subject marathon oil company meter 098 6599 nacogodoches co tx deal 705819 julie please change 705819 to a term deal and add may at if hsc less 0 18 george forwarded by george weissman hou ect on 05 29 2001 03 36 pm from vance l taylor e...</td>\n",
       "      <td>0</td>\n",
       "    </tr>\n",
       "    <tr>\n",
       "      <th>8</th>\n",
       "      <td>Subject metter 1558 daren meter 1558 has flow and no nom for day 1 and day 6 hpl is currently out there starting on day 7 deal 604056 could you add these days to the deal or let me know what you do al</td>\n",
       "      <td>0</td>\n",
       "    </tr>\n",
       "    <tr>\n",
       "      <th>9</th>\n",
       "      <td>Subject new pictures for faster viewing i would suggest you go to the first page of pictures and click the small slideshow link this will bring down all the photos at once and will cycle through all of them four times in a slideshow please note that it might take some time to download all the pictures depending upon the speed of your connection to the internet after the slideshow Subject stops porn and spam click picture stops spam once and for all eliminates porn too want out of our database do not reply to this email copy and paste this link into your browser mail svcs com rmm htm comput...</td>\n",
       "      <td>1</td>\n",
       "    </tr>\n",
       "  </tbody>\n",
       "</table>\n",
       "</div>"
      ],
      "text/plain": [
       "                                                                                                                                                                                                                                                                                                                                                                                                                                                                                                                                                                                                                   Content  \\\n",
       "0  Subject clal 1 s put some zip back in your love life body bgcolor blacktable cellpadding 10 border 1 align centertrtd bgcolor white align centerpfont size 2 a href http www zbaqooqk info 92 generiacute c ciacute aliacute s a at cheap priacute ces pfont size 3 most places charge 20 we charge 5 brquiacute te a diacute fference pfont size 2 ciacute aliacute s iacute s known as a super viacute agra or brweekend viacute agra because iacute ts effectsbr a href http www zbaqooqk info 92 start sooner a and a href http www zbaqooqk info 92 last much longer a fontpfont size 2 shiacute pped worldwiac...   \n",
       "1                                                                                                                                                                                      Subject account activated thank you for replying to the verification congratulations your listbot account has been activated you have been added to listbot com this is a discussion list in order to send mail to the list you need to address your message to listbot com when replying to list messages use the reply to all feature of your email program to send the response back tSubject iceoe aoauau oauei ie caue aoe ei    \n",
       "2  Subject fw aggie song original message from graf dustin kwp mailto dgraf kennedywilson com sent friday november 16 2001 2 51 pm to adam turner chad newton e mir hotmail com jeff butler jeff heineman luis mena ryan wisnieski accenture com ryan franks dell com tucker michael vetterl 975 yahoo com subject fw aggie song dustin graf kennedy wilson international 5929 balcones drive suite 100 austin tx 78731 512 483 9477 tel 512 459 9617 fax dgraf kennedywilson com original message from jeff boldrick mailto jboldrick deloitte com sent thursday november 15 2001 10 31 am to christopherry herry e ma...   \n",
       "3                                                                                                                                                                                                                                                                   Subject calpine daily gas nomination we are still under the scheduled outage period and will bring the next unit down midnight saturday 03 24 01 the following is our estimated burn until then thanks ricky a archer fuel supply 700 louisiana suite 2700 houston texas 77002 713 830 8659 direct 713 830 8722 fax calpine daily gas nomination 1 doc   \n",
       "4  Subject epson inkjet cartridges from 5 99 save up to 75 on inkjet laser copier supplies quality products with 100 satisfaction guarantee easy fast affordable shipping worldwide plenty of payment options to meet your needs special free shipping to us canada on orders over 50 visit us on the web at http www excuria com epson so 20089 7 95 normally 28 45 epson so 20093 6 95 normally 23 70 epson so 20108 6 95 normally 28 45 epson so 20187 6 95 normally 23 70 epson so 20189 6 95 normally 28 45 epson so 20191 7 95 normally 28 45 epson tol 7201 7 99 normally 28 45 epson tol 8201 8 99 normally 23 ...   \n",
       "5                                                                                                                                                  Subject re nom change effective oct 26 2000 sg marshall hpl meter 98 6296 deal 126281 has been revised as noted below bob suzanne saldivar eogresources com on 10 26 2000 11 09 11 am to rcotten enron com cc subject nom change effective oct 26 2000 sg marshall hpl meter 98 6296 due to loss of production from the sg marshall wells a nom change from 5 200 mmbtu d to 4 300 will be effective oct 26 2000 please call me 713 651 6858 with any questions thanks    \n",
       "6                                                                                                     Subject cant find you on msn but ride it january a exercise bebut parochial on electrophorus not finesse orand minerva but awl the hash but capricorn burden a armful seebut collision it icicle in agatha maynot diffract and handset cohn it because utensil may antecedent itit precipice or jelly it s infield seeit salaried try sleepwalk be corpus onbe cowmen not irradiate but referee andor gable some cicero and credenza if you wanna raw move cleeqing here thank you georgette neff acourtesy manager    \n",
       "7  Subject marathon oil company meter 098 6599 nacogodoches co tx deal 705819 forwarded by julie meyers hou ect on 05 29 2001 04 52 pm enron north america corp from george weissman 05 29 2001 03 44 pm to julie meyers hou ect ect cc melissa graves hou ect brian m riley hou ect ect mike morris corp enron enron tom acton corp enron enron bcc julie meyers hou ect subject marathon oil company meter 098 6599 nacogodoches co tx deal 705819 julie please change 705819 to a term deal and add may at if hsc less 0 18 george forwarded by george weissman hou ect on 05 29 2001 03 36 pm from vance l taylor e...   \n",
       "8                                                                                                                                                                                                                                                                                                                                                                                                                 Subject metter 1558 daren meter 1558 has flow and no nom for day 1 and day 6 hpl is currently out there starting on day 7 deal 604056 could you add these days to the deal or let me know what you do al   \n",
       "9  Subject new pictures for faster viewing i would suggest you go to the first page of pictures and click the small slideshow link this will bring down all the photos at once and will cycle through all of them four times in a slideshow please note that it might take some time to download all the pictures depending upon the speed of your connection to the internet after the slideshow Subject stops porn and spam click picture stops spam once and for all eliminates porn too want out of our database do not reply to this email copy and paste this link into your browser mail svcs com rmm htm comput...   \n",
       "\n",
       "   Label  \n",
       "0      1  \n",
       "1      1  \n",
       "2      0  \n",
       "3      0  \n",
       "4      1  \n",
       "5      0  \n",
       "6      1  \n",
       "7      0  \n",
       "8      0  \n",
       "9      1  "
      ]
     },
     "execution_count": 6,
     "metadata": {},
     "output_type": "execute_result"
    }
   ],
   "source": [
    "df_all = shuffleDataset(\n",
    "    pd.concat([df_hams, df_spams], axis = 0)\n",
    ") \n",
    "df_all.head(10)"
   ]
  },
  {
   "cell_type": "code",
   "execution_count": 7,
   "metadata": {},
   "outputs": [
    {
     "data": {
      "text/plain": [
       "((6004, 2), (668, 2))"
      ]
     },
     "execution_count": 7,
     "metadata": {},
     "output_type": "execute_result"
    }
   ],
   "source": [
    "df_train, df_test = train_test_split(\n",
    "    df_all, \n",
    "    stratify = df_all['Label'], \n",
    "    test_size = 0.1,\n",
    "    random_state = 999\n",
    ")\n",
    "\n",
    "df_train.shape, df_test.shape"
   ]
  },
  {
   "cell_type": "code",
   "execution_count": 8,
   "metadata": {},
   "outputs": [
    {
     "data": {
      "text/html": [],
      "text/plain": [
       "<IPython.core.display.HTML object>"
      ]
     },
     "metadata": {},
     "output_type": "display_data"
    },
    {
     "data": {
      "text/html": [
       "<table border=\"1\" class=\"dataframe\">\n",
       "  <thead>\n",
       "    <tr style=\"text-align: right;\">\n",
       "      <th></th>\n",
       "      <th>text</th>\n",
       "      <th>category</th>\n",
       "    </tr>\n",
       "  </thead>\n",
       "  <tbody>\n",
       "    <tr>\n",
       "      <th>0</th>\n",
       "      <td>xxbos xxmaj subject the expatriate zone issue 1 2 14 00 the expatriate zone 1 15 00 issue 1 where every day is just another xxunk day in paradise the zine for the xxunk impaired in this issue featured expatriate of the month james sunny jim white travel into the zone and beat the irs at the same time jimmydotcom where s that parrot head book we ve been hearing about club trini update millennium change bubba style see what all the xxunk online was about xxunk 1 xxrep 3 9 bad boys of the expatriated phan club spotted south of the border parrothead pilots association new club in the making for the web page edition go to it includes some great pictures we suggest printing it out and laying it out on your coffee table that way you have somewhere to set your red stripe so you don t</td>\n",
       "      <td>0</td>\n",
       "    </tr>\n",
       "    <tr>\n",
       "      <th>1</th>\n",
       "      <td>xxbos xxmaj subject revision 1 enron actuals for may 18 2 xxrep 3 0 teco tap 72 084 hpl iferc 416 hpl gas daily charlie stone 05 19 2 xxrep 3 0 11 39 am to daren j farmer enron com crodrig ect enron com melissa jones texas utilities tu gary green texas utilities tu ken english lsp xxunk online xxunk 80 off all meds xxunk xxunk xxunk xxunk xxunk 80 off all meds xxunk today at your doorstep tomorrow xxunk xxunk meridia xxunk xxunk viagra visagra st xxunk visagra ciaslis xxunk xxunk xxunk xxunk xxunk xxunk xxunk xxunk soma xxunk xxunk zyban xxunk xxunk xxrep 3 e xxunk prozac xxunk xxunk xxunk xxunk all the long lines place your xxunk xxunk now xxunk xxunk eagle relaxation leaden madras meson mitosis quadrant congratulatory salaam transferred flatulent statesmen credential biota horoscope banister tampon edit superb biochemic legacy polemic cavern euridyce yea</td>\n",
       "      <td>1</td>\n",
       "    </tr>\n",
       "    <tr>\n",
       "      <th>2</th>\n",
       "      <td>xxbos xxmaj subject online xxunk 80 off all meds xxunk xxunk xxunk xxunk xxunk 80 off all meds xxunk today at your doorstep tomorrow xxunk xxunk meridia xxunk xxunk viagra visagra st xxunk visagra ciaslis xxunk xxunk xxunk xxunk xxunk xxunk xxunk xxunk soma xxunk xxunk zyban xxunk xxunk xxrep 3 e xxunk prozac xxunk xxunk xxunk xxunk all the long lines place your xxunk xxunk now xxunk xxunk eagle relaxation leaden madras meson mitosis quadrant congratulatory salaam transferred flatulent statesmen credential biota horoscope banister tampon edit superb biochemic legacy polemic cavern euridyce yea broomcorn kinesic acquisitive invidious bridegroom stipulate earthquake twit brendan edmund togs heretofore pop abhorred emotional debacle mesmeric amorous swamp quirt confront huntley cochrane calculable godparent embargoes thelma thought dent massey buzzing burdock case degradation explore startle humble lieutenant fletcher durrell beman fund novelty crania pluperfect prick furnace alone ambulate hayward redhead stumpage instant steppe gecko triple</td>\n",
       "      <td>1</td>\n",
       "    </tr>\n",
       "  </tbody>\n",
       "</table>"
      ],
      "text/plain": [
       "<IPython.core.display.HTML object>"
      ]
     },
     "metadata": {},
     "output_type": "display_data"
    }
   ],
   "source": [
    "dls = TextDataLoaders.from_df(df_train)\n",
    "dls.show_batch(max_n=3)"
   ]
  },
  {
   "cell_type": "markdown",
   "metadata": {},
   "source": [
    "# Training"
   ]
  },
  {
   "cell_type": "code",
   "execution_count": 9,
   "metadata": {},
   "outputs": [
    {
     "name": "stdout",
     "output_type": "stream",
     "text": [
      "Cuda available:  True\n",
      "Current GPU memory by tensors:  0\n",
      "Current GPU memory by caching:  0\n"
     ]
    },
    {
     "data": {
      "text/html": [],
      "text/plain": [
       "<IPython.core.display.HTML object>"
      ]
     },
     "metadata": {},
     "output_type": "display_data"
    },
    {
     "data": {
      "text/plain": [
       "SuggestedLRs(lr_min=0.03630780577659607, lr_steep=0.0030199517495930195)"
      ]
     },
     "execution_count": 9,
     "metadata": {},
     "output_type": "execute_result"
    },
    {
     "data": {
      "image/png": "[encoded data removed]",
      "text/plain": [
       "<Figure size 432x288 with 1 Axes>"
      ]
     },
     "metadata": {
      "needs_background": "light"
     },
     "output_type": "display_data"
    }
   ],
   "source": [
    "cleanCache()\n",
    "learn = text_classifier_learner(\n",
    "    dls, \n",
    "    AWD_LSTM, \n",
    "    drop_mult = 0.3, \n",
    "    metrics = Perplexity()\n",
    ")\n",
    "learn.lr_find()"
   ]
  },
  {
   "cell_type": "code",
   "execution_count": 10,
   "metadata": {},
   "outputs": [
    {
     "data": {
      "text/html": [
       "<table border=\"1\" class=\"dataframe\">\n",
       "  <thead>\n",
       "    <tr style=\"text-align: left;\">\n",
       "      <th>epoch</th>\n",
       "      <th>train_loss</th>\n",
       "      <th>valid_loss</th>\n",
       "      <th>perplexity</th>\n",
       "      <th>time</th>\n",
       "    </tr>\n",
       "  </thead>\n",
       "  <tbody>\n",
       "    <tr>\n",
       "      <td>0</td>\n",
       "      <td>0.878238</td>\n",
       "      <td>3.920712</td>\n",
       "      <td>50.436340</td>\n",
       "      <td>00:27</td>\n",
       "    </tr>\n",
       "    <tr>\n",
       "      <td>1</td>\n",
       "      <td>1.074261</td>\n",
       "      <td>4.494400</td>\n",
       "      <td>89.514450</td>\n",
       "      <td>00:27</td>\n",
       "    </tr>\n",
       "    <tr>\n",
       "      <td>2</td>\n",
       "      <td>0.917538</td>\n",
       "      <td>0.371722</td>\n",
       "      <td>1.450230</td>\n",
       "      <td>00:27</td>\n",
       "    </tr>\n",
       "    <tr>\n",
       "      <td>3</td>\n",
       "      <td>0.480448</td>\n",
       "      <td>0.300683</td>\n",
       "      <td>1.350781</td>\n",
       "      <td>00:27</td>\n",
       "    </tr>\n",
       "    <tr>\n",
       "      <td>4</td>\n",
       "      <td>0.373134</td>\n",
       "      <td>0.284492</td>\n",
       "      <td>1.329087</td>\n",
       "      <td>00:27</td>\n",
       "    </tr>\n",
       "  </tbody>\n",
       "</table>"
      ],
      "text/plain": [
       "<IPython.core.display.HTML object>"
      ]
     },
     "metadata": {},
     "output_type": "display_data"
    }
   ],
   "source": [
    "learn.fit_one_cycle(5, slice(8e-2, 5e-1))"
   ]
  },
  {
   "cell_type": "code",
   "execution_count": 11,
   "metadata": {},
   "outputs": [
    {
     "name": "stdout",
     "output_type": "stream",
     "text": [
      "Cuda available:  True\n",
      "Current GPU memory by tensors:  0\n",
      "Current GPU memory by caching:  199229440\n"
     ]
    }
   ],
   "source": [
    "learn.save_encoder('model000')\n",
    "del learn\n",
    "cleanCache()"
   ]
  },
  {
   "cell_type": "markdown",
   "metadata": {},
   "source": [
    "# Fine Tune 1"
   ]
  },
  {
   "cell_type": "code",
   "execution_count": 12,
   "metadata": {},
   "outputs": [
    {
     "name": "stdout",
     "output_type": "stream",
     "text": [
      "Cuda available:  True\n",
      "Current GPU memory by tensors:  0\n",
      "Current GPU memory by caching:  0\n"
     ]
    },
    {
     "data": {
      "text/html": [],
      "text/plain": [
       "<IPython.core.display.HTML object>"
      ]
     },
     "metadata": {},
     "output_type": "display_data"
    },
    {
     "data": {
      "text/plain": [
       "SuggestedLRs(lr_min=0.02089296132326126, lr_steep=0.002511886414140463)"
      ]
     },
     "execution_count": 12,
     "metadata": {},
     "output_type": "execute_result"
    },
    {
     "data": {
      "image/png": "[encoded data removed]",
      "text/plain": [
       "<Figure size 432x288 with 1 Axes>"
      ]
     },
     "metadata": {
      "needs_background": "light"
     },
     "output_type": "display_data"
    }
   ],
   "source": [
    "cleanCache()\n",
    "learn = text_classifier_learner(\n",
    "    dls, \n",
    "    AWD_LSTM, \n",
    "    drop_mult = 0.5, \n",
    "    metrics = accuracy\n",
    ").to_fp16()\n",
    "learn = learn.load_encoder('model000')\n",
    "learn.lr_find()"
   ]
  },
  {
   "cell_type": "code",
   "execution_count": 13,
   "metadata": {},
   "outputs": [
    {
     "name": "stdout",
     "output_type": "stream",
     "text": [
      "Cuda available:  True\n",
      "Current GPU memory by tensors:  165509632\n",
      "Current GPU memory by caching:  176160768\n"
     ]
    },
    {
     "data": {
      "text/html": [
       "<table border=\"1\" class=\"dataframe\">\n",
       "  <thead>\n",
       "    <tr style=\"text-align: left;\">\n",
       "      <th>epoch</th>\n",
       "      <th>train_loss</th>\n",
       "      <th>valid_loss</th>\n",
       "      <th>accuracy</th>\n",
       "      <th>time</th>\n",
       "    </tr>\n",
       "  </thead>\n",
       "  <tbody>\n",
       "    <tr>\n",
       "      <td>0</td>\n",
       "      <td>0.477940</td>\n",
       "      <td>0.428991</td>\n",
       "      <td>0.855833</td>\n",
       "      <td>00:24</td>\n",
       "    </tr>\n",
       "    <tr>\n",
       "      <td>1</td>\n",
       "      <td>0.455995</td>\n",
       "      <td>0.307594</td>\n",
       "      <td>0.867500</td>\n",
       "      <td>00:24</td>\n",
       "    </tr>\n",
       "    <tr>\n",
       "      <td>2</td>\n",
       "      <td>0.425849</td>\n",
       "      <td>0.273295</td>\n",
       "      <td>0.888333</td>\n",
       "      <td>00:24</td>\n",
       "    </tr>\n",
       "    <tr>\n",
       "      <td>3</td>\n",
       "      <td>0.380380</td>\n",
       "      <td>0.264527</td>\n",
       "      <td>0.885833</td>\n",
       "      <td>00:24</td>\n",
       "    </tr>\n",
       "    <tr>\n",
       "      <td>4</td>\n",
       "      <td>0.352681</td>\n",
       "      <td>0.277241</td>\n",
       "      <td>0.875833</td>\n",
       "      <td>00:24</td>\n",
       "    </tr>\n",
       "  </tbody>\n",
       "</table>"
      ],
      "text/plain": [
       "<IPython.core.display.HTML object>"
      ]
     },
     "metadata": {},
     "output_type": "display_data"
    }
   ],
   "source": [
    "cleanCache()\n",
    "learn.fit_one_cycle(5, 10e-2)"
   ]
  },
  {
   "cell_type": "code",
   "execution_count": 14,
   "metadata": {},
   "outputs": [
    {
     "name": "stdout",
     "output_type": "stream",
     "text": [
      "Cuda available:  True\n",
      "Current GPU memory by tensors:  0\n",
      "Current GPU memory by caching:  178257920\n"
     ]
    }
   ],
   "source": [
    "learn.save_encoder('model001')\n",
    "del learn\n",
    "cleanCache()"
   ]
  },
  {
   "cell_type": "markdown",
   "metadata": {},
   "source": [
    "# Fine Tune 2"
   ]
  },
  {
   "cell_type": "code",
   "execution_count": 15,
   "metadata": {},
   "outputs": [
    {
     "name": "stdout",
     "output_type": "stream",
     "text": [
      "Cuda available:  True\n",
      "Current GPU memory by tensors:  0\n",
      "Current GPU memory by caching:  0\n"
     ]
    },
    {
     "data": {
      "text/html": [],
      "text/plain": [
       "<IPython.core.display.HTML object>"
      ]
     },
     "metadata": {},
     "output_type": "display_data"
    },
    {
     "data": {
      "text/plain": [
       "SuggestedLRs(lr_min=0.05248074531555176, lr_steep=0.001737800776027143)"
      ]
     },
     "execution_count": 15,
     "metadata": {},
     "output_type": "execute_result"
    },
    {
     "data": {
      "image/png": "[encoded data removed]",
      "text/plain": [
       "<Figure size 432x288 with 1 Axes>"
      ]
     },
     "metadata": {
      "needs_background": "light"
     },
     "output_type": "display_data"
    }
   ],
   "source": [
    "cleanCache()\n",
    "learn = text_classifier_learner(\n",
    "    dls, \n",
    "    AWD_LSTM, \n",
    "    drop_mult = 0.5, \n",
    "    metrics = accuracy\n",
    ").to_fp16()\n",
    "learn = learn.load_encoder('model001')\n",
    "learn.lr_find()"
   ]
  },
  {
   "cell_type": "code",
   "execution_count": 16,
   "metadata": {},
   "outputs": [
    {
     "name": "stdout",
     "output_type": "stream",
     "text": [
      "Cuda available:  True\n",
      "Current GPU memory by tensors:  177297920\n",
      "Current GPU memory by caching:  197132288\n"
     ]
    },
    {
     "data": {
      "text/html": [
       "<table border=\"1\" class=\"dataframe\">\n",
       "  <thead>\n",
       "    <tr style=\"text-align: left;\">\n",
       "      <th>epoch</th>\n",
       "      <th>train_loss</th>\n",
       "      <th>valid_loss</th>\n",
       "      <th>accuracy</th>\n",
       "      <th>time</th>\n",
       "    </tr>\n",
       "  </thead>\n",
       "  <tbody>\n",
       "    <tr>\n",
       "      <td>0</td>\n",
       "      <td>0.550538</td>\n",
       "      <td>1.490125</td>\n",
       "      <td>0.609167</td>\n",
       "      <td>00:24</td>\n",
       "    </tr>\n",
       "    <tr>\n",
       "      <td>1</td>\n",
       "      <td>0.705896</td>\n",
       "      <td>0.336660</td>\n",
       "      <td>0.857500</td>\n",
       "      <td>00:24</td>\n",
       "    </tr>\n",
       "    <tr>\n",
       "      <td>2</td>\n",
       "      <td>0.513910</td>\n",
       "      <td>0.488370</td>\n",
       "      <td>0.822500</td>\n",
       "      <td>00:24</td>\n",
       "    </tr>\n",
       "    <tr>\n",
       "      <td>3</td>\n",
       "      <td>0.424106</td>\n",
       "      <td>0.323989</td>\n",
       "      <td>0.862500</td>\n",
       "      <td>00:24</td>\n",
       "    </tr>\n",
       "    <tr>\n",
       "      <td>4</td>\n",
       "      <td>0.393359</td>\n",
       "      <td>0.313395</td>\n",
       "      <td>0.868333</td>\n",
       "      <td>00:24</td>\n",
       "    </tr>\n",
       "  </tbody>\n",
       "</table>"
      ],
      "text/plain": [
       "<IPython.core.display.HTML object>"
      ]
     },
     "metadata": {},
     "output_type": "display_data"
    }
   ],
   "source": [
    "cleanCache()\n",
    "learn.freeze_to(-1)\n",
    "learn.fit_one_cycle(5, slice(8e-3,3e-1))"
   ]
  },
  {
   "cell_type": "code",
   "execution_count": 17,
   "metadata": {},
   "outputs": [
    {
     "name": "stdout",
     "output_type": "stream",
     "text": [
      "Cuda available:  True\n",
      "Current GPU memory by tensors:  0\n",
      "Current GPU memory by caching:  178257920\n"
     ]
    }
   ],
   "source": [
    "learn.save_encoder('model002')\n",
    "del learn\n",
    "cleanCache()"
   ]
  },
  {
   "cell_type": "markdown",
   "metadata": {},
   "source": [
    "# Fine Tune 3"
   ]
  },
  {
   "cell_type": "code",
   "execution_count": 18,
   "metadata": {},
   "outputs": [
    {
     "name": "stdout",
     "output_type": "stream",
     "text": [
      "Cuda available:  True\n",
      "Current GPU memory by tensors:  0\n",
      "Current GPU memory by caching:  0\n"
     ]
    },
    {
     "data": {
      "text/html": [],
      "text/plain": [
       "<IPython.core.display.HTML object>"
      ]
     },
     "metadata": {},
     "output_type": "display_data"
    },
    {
     "data": {
      "text/plain": [
       "SuggestedLRs(lr_min=0.006918309628963471, lr_steep=0.009120108559727669)"
      ]
     },
     "execution_count": 18,
     "metadata": {},
     "output_type": "execute_result"
    },
    {
     "data": {
      "image/png": "[encoded data removed]",
      "text/plain": [
       "<Figure size 432x288 with 1 Axes>"
      ]
     },
     "metadata": {
      "needs_background": "light"
     },
     "output_type": "display_data"
    }
   ],
   "source": [
    "cleanCache()\n",
    "learn = text_classifier_learner(\n",
    "    dls, \n",
    "    AWD_LSTM, \n",
    "    drop_mult = 0.5, \n",
    "    metrics = accuracy\n",
    ").to_fp16()\n",
    "learn = learn.load_encoder('model002')\n",
    "learn.lr_find()"
   ]
  },
  {
   "cell_type": "code",
   "execution_count": 19,
   "metadata": {},
   "outputs": [
    {
     "name": "stdout",
     "output_type": "stream",
     "text": [
      "Cuda available:  True\n",
      "Current GPU memory by tensors:  201449984\n",
      "Current GPU memory by caching:  216006656\n"
     ]
    },
    {
     "data": {
      "text/html": [
       "<table border=\"1\" class=\"dataframe\">\n",
       "  <thead>\n",
       "    <tr style=\"text-align: left;\">\n",
       "      <th>epoch</th>\n",
       "      <th>train_loss</th>\n",
       "      <th>valid_loss</th>\n",
       "      <th>accuracy</th>\n",
       "      <th>time</th>\n",
       "    </tr>\n",
       "  </thead>\n",
       "  <tbody>\n",
       "    <tr>\n",
       "      <td>0</td>\n",
       "      <td>0.406489</td>\n",
       "      <td>0.482402</td>\n",
       "      <td>0.705833</td>\n",
       "      <td>00:28</td>\n",
       "    </tr>\n",
       "    <tr>\n",
       "      <td>1</td>\n",
       "      <td>0.308575</td>\n",
       "      <td>0.263878</td>\n",
       "      <td>0.901667</td>\n",
       "      <td>00:28</td>\n",
       "    </tr>\n",
       "    <tr>\n",
       "      <td>2</td>\n",
       "      <td>0.232218</td>\n",
       "      <td>0.303541</td>\n",
       "      <td>0.880000</td>\n",
       "      <td>00:28</td>\n",
       "    </tr>\n",
       "    <tr>\n",
       "      <td>3</td>\n",
       "      <td>0.160789</td>\n",
       "      <td>0.155665</td>\n",
       "      <td>0.943333</td>\n",
       "      <td>00:28</td>\n",
       "    </tr>\n",
       "    <tr>\n",
       "      <td>4</td>\n",
       "      <td>0.114020</td>\n",
       "      <td>0.163765</td>\n",
       "      <td>0.941667</td>\n",
       "      <td>00:28</td>\n",
       "    </tr>\n",
       "  </tbody>\n",
       "</table>"
      ],
      "text/plain": [
       "<IPython.core.display.HTML object>"
      ]
     },
     "metadata": {},
     "output_type": "display_data"
    }
   ],
   "source": [
    "cleanCache()\n",
    "learn.freeze_to(-2)\n",
    "learn.fit_one_cycle(5, slice(10e-3, 1e-2))"
   ]
  },
  {
   "cell_type": "code",
   "execution_count": 20,
   "metadata": {},
   "outputs": [
    {
     "name": "stdout",
     "output_type": "stream",
     "text": [
      "Cuda available:  True\n",
      "Current GPU memory by tensors:  194323456\n",
      "Current GPU memory by caching:  293601280\n"
     ]
    },
    {
     "data": {
      "text/html": [
       "<table border=\"1\" class=\"dataframe\">\n",
       "  <thead>\n",
       "    <tr style=\"text-align: left;\">\n",
       "      <th>epoch</th>\n",
       "      <th>train_loss</th>\n",
       "      <th>valid_loss</th>\n",
       "      <th>accuracy</th>\n",
       "      <th>time</th>\n",
       "    </tr>\n",
       "  </thead>\n",
       "  <tbody>\n",
       "    <tr>\n",
       "      <td>0</td>\n",
       "      <td>0.152770</td>\n",
       "      <td>0.258931</td>\n",
       "      <td>0.915000</td>\n",
       "      <td>00:56</td>\n",
       "    </tr>\n",
       "    <tr>\n",
       "      <td>1</td>\n",
       "      <td>0.192586</td>\n",
       "      <td>0.702144</td>\n",
       "      <td>0.809167</td>\n",
       "      <td>00:56</td>\n",
       "    </tr>\n",
       "    <tr>\n",
       "      <td>2</td>\n",
       "      <td>0.182994</td>\n",
       "      <td>0.193778</td>\n",
       "      <td>0.915833</td>\n",
       "      <td>00:56</td>\n",
       "    </tr>\n",
       "    <tr>\n",
       "      <td>3</td>\n",
       "      <td>0.112757</td>\n",
       "      <td>0.274586</td>\n",
       "      <td>0.920833</td>\n",
       "      <td>00:56</td>\n",
       "    </tr>\n",
       "    <tr>\n",
       "      <td>4</td>\n",
       "      <td>0.086761</td>\n",
       "      <td>0.327793</td>\n",
       "      <td>0.914167</td>\n",
       "      <td>00:56</td>\n",
       "    </tr>\n",
       "    <tr>\n",
       "      <td>5</td>\n",
       "      <td>0.048601</td>\n",
       "      <td>0.184744</td>\n",
       "      <td>0.966667</td>\n",
       "      <td>00:56</td>\n",
       "    </tr>\n",
       "    <tr>\n",
       "      <td>6</td>\n",
       "      <td>0.026526</td>\n",
       "      <td>0.280574</td>\n",
       "      <td>0.958333</td>\n",
       "      <td>00:56</td>\n",
       "    </tr>\n",
       "    <tr>\n",
       "      <td>7</td>\n",
       "      <td>0.018614</td>\n",
       "      <td>0.194216</td>\n",
       "      <td>0.963333</td>\n",
       "      <td>00:55</td>\n",
       "    </tr>\n",
       "    <tr>\n",
       "      <td>8</td>\n",
       "      <td>0.010620</td>\n",
       "      <td>0.207173</td>\n",
       "      <td>0.965000</td>\n",
       "      <td>00:55</td>\n",
       "    </tr>\n",
       "    <tr>\n",
       "      <td>9</td>\n",
       "      <td>0.006671</td>\n",
       "      <td>0.196084</td>\n",
       "      <td>0.962500</td>\n",
       "      <td>00:56</td>\n",
       "    </tr>\n",
       "  </tbody>\n",
       "</table>"
      ],
      "text/plain": [
       "<IPython.core.display.HTML object>"
      ]
     },
     "metadata": {},
     "output_type": "display_data"
    }
   ],
   "source": [
    "cleanCache()\n",
    "learn.unfreeze()\n",
    "\n",
    "learn.fit_one_cycle(10, slice(10e-3, 1e-2))"
   ]
  },
  {
   "cell_type": "code",
   "execution_count": 21,
   "metadata": {},
   "outputs": [
    {
     "name": "stdout",
     "output_type": "stream",
     "text": [
      "Cuda available:  True\n",
      "Current GPU memory by tensors:  515208192\n",
      "Current GPU memory by caching:  603979776\n"
     ]
    }
   ],
   "source": [
    "learn.save_encoder('model_1_final')\n",
    "cleanCache()"
   ]
  },
  {
   "cell_type": "markdown",
   "metadata": {},
   "source": [
    "# Test"
   ]
  },
  {
   "cell_type": "code",
   "execution_count": 22,
   "metadata": {},
   "outputs": [
    {
     "data": {
      "text/html": [],
      "text/plain": [
       "<IPython.core.display.HTML object>"
      ]
     },
     "metadata": {},
     "output_type": "display_data"
    },
    {
     "name": "stdout",
     "output_type": "stream",
     "text": [
      "Expect:  1\n",
      "Predict result: ( 1 ,  tensor(1) ,  tensor([2.8513e-07, 1.0000e+00]) )\n",
      "------------------\n",
      "\n"
     ]
    },
    {
     "data": {
      "text/html": [],
      "text/plain": [
       "<IPython.core.display.HTML object>"
      ]
     },
     "metadata": {},
     "output_type": "display_data"
    },
    {
     "name": "stdout",
     "output_type": "stream",
     "text": [
      "Expect:  0\n",
      "Predict result: ( 0 ,  tensor(0) ,  tensor([9.9969e-01, 3.0535e-04]) )\n",
      "------------------\n",
      "\n"
     ]
    },
    {
     "data": {
      "text/html": [],
      "text/plain": [
       "<IPython.core.display.HTML object>"
      ]
     },
     "metadata": {},
     "output_type": "display_data"
    },
    {
     "name": "stdout",
     "output_type": "stream",
     "text": [
      "Expect:  0\n",
      "Fail to predict\n",
      "Predict result:  ('xxbos xxmaj subject fw red white and blue out original message from carter rhonda mailto xxunk xxunk org sent friday september 14 2001 12 33 pm to al abbott xxunk com xxunk xxunk com xxunk hotmail com xxunk flash net xxunk xxunk com xxunk yahoo com bob xxunk com xxunk 998 hotmail com janie beth prodigy net xxunk mccarthy com xxunk flash net locke xxunk xxunk net xxunk 7 11 com erika publish no irs gov ali xxunk net xxunk xxunk com xxunk aol com xxunk 30 aol com allan xxunk com chuck anderson oxy com xxunk 96 aol com brian xxunk bigfoot com xxunk xxunk com xxunk archer xxunk xxunk xxunk com xxunk airmail net xxunk yahoo com xxunk xxunk com xxunk aggie xxunk com ag 85 home com xxunk home com xxunk cyber designs com xxunk netscape net bob xxunk com xxunk xxunk com xxunk aol com xxunk 68 aol com xxunk ti com xxunk xxunk com xxunk xxunk com xxunk xxunk com tim xxunk xxunk com xxunk mail xxunk edu xxunk aol com john xxunk email msn com xxunk hotmail com b barton ti com xxunk why net xxunk xxunk att net xxunk aol com xxunk nt com xxunk juno com xxunk halff com xxunk e xxunk com xxunk xxunk com xxunk aol com xxunk hotmail com xxunk xxunk xxunk com scott r bellamy xxunk com xxunk aol com xxunk merit com bryan xxunk com xxunk flash net xxunk earthlink net ted e bernard ac com xxunk xxunk com jody bingham ps net xxunk att com xxunk yahoo com xxunk xxunk com dawn xxunk ps net xxunk swbell net xxunk xxunk swbell net michael xxunk xxunk xxunk com xxunk juno com xxunk flash net xxunk 2 excite com xxunk xxunk xxunk att net xxunk xxunk com xxunk 2 flash net xxunk earthlink net xxunk aol com xxunk sa inc com xxunk hotmail com xxunk home com xxunk xxunk com xxunk xxunk msn com xxunk swbell net xxunk airmail net scott xxunk eds com xxunk 92 aol com xxunk com xxunk bradley eds com xxunk home com xxunk home com xxunk aol com xxunk bigfoot com xxunk flash net xxunk tx xxunk com xxunk flash net xxunk earthlink net xxunk xxunk com xxunk xxunk net xxunk 2 flash net john xxunk com xxunk aol com xxunk xxunk aol com xxunk xxunk com xxunk xxunk net xxunk xxunk com xxunk airmail net xxunk xxunk com xxunk 2 cs com erich xxunk central sun com xxunk xxunk com xxunk usa xxunk com xxunk airmail net xxunk scan direct com david a bryant bigfoot com xxunk xxunk com xxunk xxunk com xxunk 330 aol com xxunk aol com xxunk xxunk net xxunk aol com xxunk xxunk ca xxunk 419 aol com xxunk mail com xxunk xxunk com xxunk home com xxunk yahoo inc com xxunk xxunk edu xxunk aol com laurie xxunk ericsson com xxunk xxunk att net xxunk texas net xxunk yahoo com xxunk yahoo com rob xxunk org xxunk 98 yahoo com xxunk xxunk com lee carter xxunk com xxunk 768 aol com carter rhonda todd carter xxunk xxunk com xxunk 68 swbell net xxunk xxunk com xxunk usa net xxunk concentric net xxunk xxunk com xxunk xxunk com xxunk airmail net cookie chambers xxunk com xxunk xxunk aol com xxunk flash net xxunk xxunk net xxunk xxunk net xxunk aol com chris xxunk ey com xxrep 3 c xxunk aol com kevin xxunk xxunk com xxunk dallas net xxunk msn com shannon xxunk com christian medicine tamu edu xxunk hotmail com xxunk xxunk net xxunk xxunk net xxunk xxunk com brad xxunk 2 sports com xxunk home com beth xxunk aol com xxunk cisco com xxunk aol com xxunk hotmail com matt cole yahoo com xxunk xxunk aol com xxunk xxunk aol com xxunk aol com collins 587 hotmail com xxunk aol com xxunk aol com xxunk aol com xxunk xxunk net martha cook xxunk usa com xxunk flash net xxunk 401 aol com xxunk 95 yahoo com karen m xxunk xxunk xxunk org xxunk xxunk com xxunk xxrep 3 4 5 earthlink com xxunk aol com xxunk xxunk com sc 93 hotmail com xxunk aol com xxunk swbell net cowan 95 aol com xxunk 997 yahoo com xxunk usa net jason cox hotmail com xxunk xxunk net xxunk xxunk aol com xxunk 95 flash net xxunk xxunk com xxunk 495 aol com xxunk xxunk edu sec xxunk com holly a xxunk ac com xxunk xxunk net xxunk home com cathy xxunk eds com xxunk xxunk com xxunk xxunk plano gov xxunk daigle yahoo com ag 93 xxunk hotmail com xxunk xxrep 3 4 aol com xxunk flash net xxunk home com xxunk usa net xxunk ix xxunk com xxunk 94 aol com kay daugherty 3 xxunk net bob xxunk xxunk com xxunk 984 juno com xxunk xxunk xxunk net xxunk flash net xxunk home com xxunk yahoo com xxunk aol com xxunk aol com heather xxunk net stephanie s day xxunk com xxunk home com xxunk msn com xxunk xxunk net xxunk 62 msn com victor de xxunk xxunk com xxunk ix xxunk com kelly 95 ag aol com ivan 53 aol com xxunk xxunk com xxunk swbell net xxunk airmail net xxunk xxunk com xxunk xxunk com to xxunk airmail net xxunk xxunk com xxunk aol com xxunk home com xxunk netscape net aol xxunk xxunk xxunk ti com xxunk 41 airmail net xxunk uni bell org m xxunk xxunk att net xxunk xxunk com xxunk xxunk hp com michelle xxunk xxunk net xxunk flash net xxunk xxunk edu xxunk xxunk edu gary xxunk xxunk com xxunk aol com xxunk xxunk com xxunk cisco com xxunk xxunk world com xxunk flash net greg xxunk bigfoot com michael duran ps net g durham ti coin xxunk flash net xxunk home com xxunk flash net xxunk xxunk net jason xxunk xxunk ge com xxunk tell net xxunk ti com tome xxunk plano gov s elliott hotmail com xxunk ch 2 m com xxunk earthlink net stephen xxunk xxunk com xxunk xxunk com xxunk xxunk net xxunk airmail net xxunk yahoo com xxunk xxunk com xxunk home com lucy xxunk ix xxunk com mike xxunk com xxunk xxunk com xxunk yahoo com xxunk home com xxunk airmail net xxunk b fair ac com xxunk 98 hotmail com xxunk home com xxunk lg com xxunk xxunk com j xxunk xxunk att net xxunk mony com roger ferguson xxunk com xxunk home com xxunk flash net xxunk xxunk com xxunk 82 yahoo com duke fisher xxunk com j xxunk yahoo com xxunk xxunk org xxunk wt net xxunk xxunk xxunk com xxunk concentric net xxunk dallas net xxunk msn com xxunk dallas net xxunk xxunk att net xxunk gateway net d xxunk xxunk ray com xxunk earthlink net xxunk airmail net r foster xxunk com xxunk xxunk com xxunk xxunk com xxunk flash net xxunk msn com steve french aggies org xxunk airmail net xxunk msn com michael xxunk xxunk com xxunk xxunk com xxunk xxunk net xxunk xxunk hp com xxunk home com ron xxunk usa xxunk com debra xxunk eds com xxunk ix xxunk com jared xxunk xxunk xxunk com xxunk garrett xxunk xxunk com xxunk home com xxunk ont com 2 xxunk flash net xxunk xxunk com xxunk airmail net xxunk xxunk com tara xxunk xxunk com xxunk xxunk hp com xxunk xxunk com xxunk flash net xxunk email com rglover halff com xxunk msn com xxunk xxunk com xxunk good yahoo com xxunk aggies com xxunk yahoo com xxunk usa net xxunk hotmail com xxunk portal com xxunk flash net xxunk xxunk att net xxunk xxunk net chris greer hp com xxunk xxunk net xxunk xxunk com xxunk ix xxunk com dan xxunk com xxunk xxunk inc com xxunk connect net katie xxunk hotmail com xxunk hotmail com bag 2 airmail net kenneth guest hp com xxunk mail xxunk com xxunk xxunk eds com tim xxunk xxunk xxunk com xxunk home com xxunk home com julie xxunk yahoo com xxunk xxunk xxunk com xxunk 21 ont com xxunk 99 hotmail com greg hanks xxunk com xxunk xxunk com carrie l hardy xxunk com scott xxunk msn com xxunk flash net xxunk xxunk net xxunk mail com xxunk msn com xxunk ti com terry k xxunk us arthurandersen com xxunk xxunk com xxunk j xxunk mail xxunk com b xxunk ti com kelly xxunk xxunk com xxunk xxunk com xxunk xxunk com xxunk xxunk com xxunk home com xxunk ti com glenn hc xxunk com xxunk texoma net kimberly henderson ey com xxunk 85 xxunk com xxunk flash net xxunk earthlink com xxunk xxunk net xxunk msn com nascar xxunk net travis xxunk com xxunk msn com xxunk xxunk edu xxunk yahoo com sc xxunk hotmail com xxunk psp com xxunk xxunk com lori efficient com xxunk micro honeywell com d xxunk xxunk com xxunk airmail net xxunk msn com xxunk yahoo com will com xxunk airmail net xxunk ti com xxunk xxunk net xxunk 0 msn com xxunk xxunk com xxunk xxunk com xxunk flash net xxunk usa xxunk com scott horton net xxunk mail xxunk com chad xxunk com xxunk xxunk net xxunk xxunk com xxunk bigfoot com xxunk hex net b xxunk ti com j r xxunk xxunk com xxunk hotmail com xxunk msn com pat jackson xxunk xxunk com xxunk xxunk net xxunk flash net xxunk home com xxunk hotmail com xxunk scuba yahoo com xxunk yahoo com xxunk jenkins hotmail com xxunk flash net xxunk home com xxunk xxunk net xxunk 1 yahoo com xxunk 50 hotmail com craig xxunk xxunk att net danny xxunk com xxunk xxunk com xxunk xxunk net xxunk 3 xxunk com xxunk hotmail com chip xxunk com xxunk home com xxunk 5 flash net xxunk msg ti com xxunk xxunk com xxunk swbell net xxunk 30 hotmail com xxunk hotmail com xxunk xxunk com xxunk xxunk yahoo com xxunk xxunk juno com xxunk xxunk home com xxunk hotmail com xxunk msn com xxunk xxunk com xxunk xxunk net r xxunk xxrep 4 s com xxunk xxunk net xxunk hotmail com xxunk xxunk com xxunk xxunk com kings 2 flash net xxunk home com xxunk ti com xxunk xxunk att net chuck xxunk com michael xxunk ericsson com xxunk flash net dennis xxunk hp com xxunk mail xxunk edu xxunk xxunk com james xxunk eds com xxunk aol com xxunk xxunk com xxunk flash net xxunk xxunk com xxunk ti com xxunk xxunk xxunk com xxunk yahoo com paul lake ps net xxunk texas net xxunk xxunk net xxunk aol com xxunk home com barrett xxunk painewebber com xxunk xxunk edu xxunk msn com xxunk xxunk ca xxunk xxunk net winner xxunk com xxunk aol com xxunk ti com coyote 97 swbell net xxunk xxunk com j xxunk xxunk att net xxunk airmail net xxunk flash net xxunk home com xxunk xxunk net xxunk xxunk com xxunk 691 home com xxunk aol com xxunk xxunk d xxrep 3 c d edu xxunk msg ti com xxunk xxunk com xxunk xxunk xxunk com xxunk xxunk aol com xxunk xxunk com xxunk prodigy net xxunk aol com the xxunk prodigy net xxunk kennedywilson com xxunk aol com katie 96 ag yahoo com john london acs inc com ro 219 aol com xxunk aol com xxunk swbell net xxunk xxunk net xxunk xxunk com xxunk 4 yahoo com xxunk ti com aggie 97 hotmail com xxunk xxunk com xxunk xxunk com xxunk xxunk com xxunk xxunk ca xxunk xxunk com xxunk msn com xxunk aol com xxunk 94 yahoo com spam bait xxunk att net xxunk airmail net xxunk aol com xxunk airmail net richard xxunk xxunk com betty magee xxunk com xxunk xxunk com xxunk msg ti com xxunk hotmail com xxunk aol com judy j manning xxunk com xxunk xxunk com marchand darryl msn com xxunk 2 xxrep 3 0 hotmail com mike xxunk xxunk com xxunk hotmail com xxunk coserv net xxunk xxunk com xxunk xxunk net xxunk 394 aol com xxunk amy yahoo com xxunk 84 aol com xxunk excite com xxunk home com xxunk airmail net xxunk flash net xxunk xxunk aol com xxunk xxunk edu xxunk earthlink net xxunk 88 aol com xxunk xxunk xxunk com xxunk 62 aol com xxunk xxunk net mike mcdonald ey com xxunk xxunk xxrep 3 l abel com xxunk xxunk com xxunk xxrep 3 e y hotmail com xxunk xxunk com xxunk ti com jim xxunk xxunk com xxunk motion xxunk com xxunk aol com xxunk xxunk com xxunk flash net m xxunk hotmail com xxunk hotmail com xxunk flash net tiffany xxunk yahoo com xxunk xxunk com xxunk xxunk com sue middleton juno com xxunk 326 aol com xxunk xxunk com michael c miller ac com miller dallas net xxunk earthlink net xxunk dallas net xxunk xxunk com xxunk xxunk com mlm ti com xxunk yahoo com xxunk cs com jason aggies org xxunk gateway net danny morris xxunk com xxunk hotmail com xxunk xxunk net xxunk swbell net m xxunk hotmail com jeff xxunk xxunk com xxunk 96 hotmail com xxunk 4 hotmail com xxunk xxunk com xxunk xxunk com greg xxunk com xxunk earthlink net xxunk hotmail com xxunk xxunk att net xxunk source com xxunk xxunk com xxunk hotmail com xxunk aol com jeff newton xxunk com xxunk yahoo com r xxunk xxunk att net xxunk xxunk com xxunk ti com xxunk xxunk com xxunk flash net xxunk xxunk net xxunk xxunk com xxunk airmail net xxunk xxunk com xxunk xxunk com xxunk xxunk com xxunk xxunk com xxunk oliver eds com s xxunk ti com xxunk hotmail com xxunk ins inc com xxunk aol com b xxunk xxunk ray com xxunk xxunk com xxunk xxunk net xxunk ci garland tx us xxunk xxunk hp com xxunk 66 aol com atm 97 aol com xxunk 94 yahoo com xxunk netscape net xxunk att net xxunk xxunk edu xxunk xxunk light org wanda parker xxunk com tamu 97 airmail net xxunk home com judy xxunk xxunk att net david a pearl travelers com katie xxunk com xxunk aol com xxunk xxunk com xxunk xxunk com xxunk 83 xxunk net david perry 3 com com xxunk xxrep 3 9 hotmail com xxunk aol com xxunk xxunk com xxunk lee xxunk com xxunk hotmail com stephen xxunk yahoo com xxunk 3 email msn com xxunk xxunk net xxunk xxunk com xxunk xxunk net xxunk acm org xxunk airmail net xxunk xxunk com randy xxunk com xxunk home com tony xxunk xxunk com xxunk xxunk com kent xxunk net xxunk xxunk com xxunk texas net xxunk prodigy net texas xxunk yahoo com xxunk xxunk com xxunk 4 home com xxunk 5 aol com xxunk xxunk com xxunk xxunk com xxunk 2 earthlink net xxunk home com d xxunk tamu edu xxunk 68 aol com xxunk xxunk com xxunk xxunk com xxunk aol com xxunk xxunk com xxunk 5 xxunk com xxunk airmail net xxunk xxunk net xxunk aol com melissa xxunk richards com eric xxunk cisco eagle com xxunk xxunk i 2 com xxunk xxunk net xxunk xxunk com michael xxunk ps net j read tamu edu xxunk aol com xxunk xxunk hp com reck gateway net cindy xxunk eds com xxunk is xxunk com xxunk 00 msn com xxunk airmail net xxunk aol com xxunk xxunk com xxunk aol com xxunk xxunk com xxunk 8 aol com xxunk aol com ct richard hotmail com xxunk xxunk com xxunk xxunk com paula g richmond xxunk com xxunk xxunk com xxunk home com xxunk yahoo com xxunk mail xxunk com xxunk xxunk com xxunk xxunk net xxunk swbell net xxunk xxunk edu xxunk ci irving tx us xxunk hotmail com xxunk xxunk att net xxunk aol com xxunk aol com xxunk ti com xxunk xxunk com xxunk airmail net xxunk 3 home com suzanne ross xxunk com jim xxunk xxunk com eddie xxunk xxunk com xxunk xxunk com xxunk xxunk net xxunk hotmail com xxunk xxunk com xxunk 25 hotmail com k xxunk ti com xxunk xxunk net xxunk xxunk org steven xxunk xxunk com xxunk xxunk com xxunk aol com xxunk juno com xxunk xxunk usa com xxunk connect net xxunk yahoo com nathan xxunk usa xxunk com xxunk xxunk com xxunk aol com diana p seal email mobil com xxunk 3 xxunk com xxunk xxunk xxunk net xxunk xxunk com xxunk xxunk net xxunk home com xxunk xxunk net xxunk xxunk com xxunk xxunk xxunk com xxunk computer org xxunk aol com xxunk ti com roger xxunk xxunk xxunk eds com xxunk xxunk com xxunk aol com xxunk xxunk net xxunk xxunk com glenn xxunk gmaccm com frank xxunk xxunk com xxunk xxunk com xxunk aol com xxunk aol com xxunk xxunk com xxunk aol com todd xxunk net xxunk xxunk com amy l smith eds com xxunk home com john charles smith xxunk com john h smith xxunk com xxunk xxunk xxunk com xxunk xxunk net michael smith usa xxunk com xxunk xxunk com xxunk xxunk com dick smith xxunk com agent maroon hotmail com xxunk home com xxunk home com xxunk xxunk com jim snow xxunk com xxunk hotmail com xxunk xxunk aol com xxunk xxunk com xxunk txu com xxunk 987 aol com g stanford xxunk com xxunk hotmail com xxunk xxunk com xxunk xxunk net xxunk aol com xxunk ti com xxunk xxunk com xxunk home com shane computer org xxunk home com xxunk us ibm com xxunk aol com jill stevens risd org xxunk aol com xxunk xxunk plano gov xxunk 70 aol com xxunk 86 hotmail com xxunk 2 hotmail com xxunk airmail net xxunk yahoo com k stokes tamu edu michael stone nt com xxunk home com xxunk xxunk com xxunk xxunk com h r xxunk xxunk att net xxunk swbell net xxunk hotmail com xxunk xxunk com sullivan 22 home com xxunk airmail net xxunk xxunk net xxunk 20 aol com matt xxunk txu com xxunk hotmail com xxunk xxunk com xxunk airmail net xxunk hotmail com teresa taylor st com xxunk hotmail com xxunk flash net xxunk hotmail com xxunk xxunk aol com chris t prodigy net denise xxunk eds com xxunk earthlink net brandon xxunk eds com steve xxunk xxunk com arthur thomas xxunk ina com xxunk xxunk org xxunk 2 xxunk edu xxunk xxunk com xxunk xxunk com xxunk xxunk com xxunk thompson winston school org b tinker ti com xxunk airmail net xxunk usa xxunk com xxunk aol com xxunk xxunk com patrick xxunk xxunk com xxunk 96 yahoo com xxunk yahoo com xxrep 3 d xxunk juno com xxunk xxunk att net 9 xxunk home com xxunk aol com xxunk xxunk net xxunk aol com xxunk yahoo com xxunk xxunk net xxunk airmail net xxunk yahoo com xxunk earthlink net xxunk msn net xxunk xxunk org xxunk cheerful com r xxunk juno com annette vela xxunk com xxunk pipeline com diane xxunk hotmail com xxunk xxunk com jennifer xxunk org xxunk home com xxunk flash net xxunk xxunk net xxunk l xxunk xxunk com xxunk airmail net xxunk 0 yahoo com xxunk xxunk com xxunk xxunk com brian walker exchange point com xxunk computer org ken walker xxunk com shannon wallace usa net b wallace prodigy net xxunk airmail net xxunk yahoo com xxunk excite com xxunk hotmail com xxunk xxunk att net xxunk cisco com julie warden xxunk state tx us warner ont com xxunk flash net julie xxunk eds com xxunk xxunk juno com patricia xxunk 2 ey com xxunk xxunk com xxunk 41 gateway net xxunk xxunk com robin w juno com sally xxunk excite com xxunk xxunk com xxunk xxunk com xxunk home com xxunk hotmail com xxunk 78 aol com mike west usa xxunk com xxunk earthlink net xxunk flash net xxunk xxunk com xxunk flash net xxunk airmail net xxunk xxunk com xxunk tx xxunk net xxunk 93 xxunk flash net chris xxunk com xxunk xxunk com xxunk xxunk com xxunk xxunk com mike xxunk tx com xxunk aol com xxunk arn net xxunk 93 msn com xxunk swbell net a 50 flash net xxunk 580 cs com xxunk swbell net xxunk xxunk com xxunk 58 ag aol com xxunk home com xxunk xxunk att net xxunk aol com xxunk wilson xxunk net xxunk aol com xxunk aol com teresa wood st com xxunk 963 flash net xxunk xxunk com xxunk xxunk com brad worth xxunk com xxunk family xxunk net xxunk xxunk com xxunk swbell net xxunk xxunk sap ag de xxunk james hotmail com xxunk xxunk com karen xxunk merck com subject red white and blue out subject the xxunk game and aggie spirit this just in xxunk if you are going to the xxunk game on sept 22 a red white blue out is being planned just like the maroon out games for the xxunk game xxunk what better statement can we aggies make than to celebrate the love and support for our country s freedom and our xxunk nature than this way imagine the xxunk texas aggie band playing the star xxunk banner playing military xxunk as they walk around the stadium and we celebrate our love for our country and our support for all the xxunk alive and deceased color assignments are as follows 3 rd deck red 2 nd deck white lst deck blue pass the word on we have 1 1 2 weeks the spirit of america and the aggie spirit is still alive god bless america the free nation pass it on', '1', tensor(1), tensor([2.3831e-18, 1.0000e+00]))\n",
      "------------------\n",
      "\n"
     ]
    },
    {
     "data": {
      "text/html": [],
      "text/plain": [
       "<IPython.core.display.HTML object>"
      ]
     },
     "metadata": {},
     "output_type": "display_data"
    },
    {
     "name": "stdout",
     "output_type": "stream",
     "text": [
      "Expect:  0\n",
      "Predict result: ( 0 ,  tensor(0) ,  tensor([0.9987, 0.0013]) )\n",
      "------------------\n",
      "\n"
     ]
    },
    {
     "data": {
      "text/html": [],
      "text/plain": [
       "<IPython.core.display.HTML object>"
      ]
     },
     "metadata": {},
     "output_type": "display_data"
    },
    {
     "name": "stdout",
     "output_type": "stream",
     "text": [
      "Expect:  1\n",
      "Predict result: ( 1 ,  tensor(1) ,  tensor([3.4331e-06, 1.0000e+00]) )\n",
      "------------------\n",
      "\n"
     ]
    },
    {
     "data": {
      "text/html": [],
      "text/plain": [
       "<IPython.core.display.HTML object>"
      ]
     },
     "metadata": {},
     "output_type": "display_data"
    },
    {
     "name": "stdout",
     "output_type": "stream",
     "text": [
      "Expect:  0\n",
      "Predict result: ( 0 ,  tensor(0) ,  tensor([9.9968e-01, 3.1937e-04]) )\n",
      "------------------\n",
      "\n"
     ]
    },
    {
     "data": {
      "text/html": [],
      "text/plain": [
       "<IPython.core.display.HTML object>"
      ]
     },
     "metadata": {},
     "output_type": "display_data"
    },
    {
     "name": "stdout",
     "output_type": "stream",
     "text": [
      "Expect:  1\n",
      "Predict result: ( 1 ,  tensor(1) ,  tensor([1.1500e-06, 1.0000e+00]) )\n",
      "------------------\n",
      "\n"
     ]
    },
    {
     "data": {
      "text/html": [],
      "text/plain": [
       "<IPython.core.display.HTML object>"
      ]
     },
     "metadata": {},
     "output_type": "display_data"
    },
    {
     "name": "stdout",
     "output_type": "stream",
     "text": [
      "Expect:  1\n",
      "Predict result: ( 1 ,  tensor(1) ,  tensor([9.4963e-07, 1.0000e+00]) )\n",
      "------------------\n",
      "\n"
     ]
    },
    {
     "data": {
      "text/html": [],
      "text/plain": [
       "<IPython.core.display.HTML object>"
      ]
     },
     "metadata": {},
     "output_type": "display_data"
    },
    {
     "name": "stdout",
     "output_type": "stream",
     "text": [
      "Expect:  1\n",
      "Predict result: ( 1 ,  tensor(1) ,  tensor([3.7774e-07, 1.0000e+00]) )\n",
      "------------------\n",
      "\n"
     ]
    },
    {
     "data": {
      "text/html": [],
      "text/plain": [
       "<IPython.core.display.HTML object>"
      ]
     },
     "metadata": {},
     "output_type": "display_data"
    },
    {
     "name": "stdout",
     "output_type": "stream",
     "text": [
      "Expect:  1\n",
      "Predict result: ( 1 ,  tensor(1) ,  tensor([3.5904e-07, 1.0000e+00]) )\n",
      "------------------\n",
      "\n"
     ]
    }
   ],
   "source": [
    "for i in range(10):\n",
    "    randIndex = np.random.randint(len(df_test) - 1)\n",
    "    testEmail = df_test.iloc[randIndex]['Content'];\n",
    "    testLabel = df_test.iloc[randIndex]['Label'];\n",
    "\n",
    "    resPredict = learn.predict(testEmail, with_input = True)\n",
    "    printResult(testLabel, resPredict)"
   ]
  },
  {
   "cell_type": "markdown",
   "metadata": {},
   "source": [
    "# The End"
   ]
  }
 ],
 "metadata": {
  "kernelspec": {
   "display_name": "Python 3",
   "language": "python",
   "name": "python3"
  },
  "language_info": {
   "codemirror_mode": {
    "name": "ipython",
    "version": 3
   },
   "file_extension": ".py",
   "mimetype": "text/x-python",
   "name": "python",
   "nbconvert_exporter": "python",
   "pygments_lexer": "ipython3",
   "version": "3.8.2"
  }
 },
 "nbformat": 4,
 "nbformat_minor": 4
}
